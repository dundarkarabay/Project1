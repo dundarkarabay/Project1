{
 "cells": [
  {
   "cell_type": "code",
   "execution_count": 1,
   "metadata": {},
   "outputs": [
    {
     "name": "stdout",
     "output_type": "stream",
     "text": [
      "Requirement already satisfied: census in c:\\users\\dunda\\anaconda3\\lib\\site-packages (0.8.13)\n",
      "Requirement already satisfied: future in c:\\users\\dunda\\anaconda3\\lib\\site-packages (from census) (0.17.1)\n",
      "Requirement already satisfied: requests>=1.1.0 in c:\\users\\dunda\\anaconda3\\lib\\site-packages (from census) (2.22.0)\n",
      "Requirement already satisfied: urllib3!=1.25.0,!=1.25.1,<1.26,>=1.21.1 in c:\\users\\dunda\\anaconda3\\lib\\site-packages (from requests>=1.1.0->census) (1.24.2)\n",
      "Requirement already satisfied: idna<2.9,>=2.5 in c:\\users\\dunda\\anaconda3\\lib\\site-packages (from requests>=1.1.0->census) (2.8)\n",
      "Requirement already satisfied: certifi>=2017.4.17 in c:\\users\\dunda\\anaconda3\\lib\\site-packages (from requests>=1.1.0->census) (2019.6.16)\n",
      "Requirement already satisfied: chardet<3.1.0,>=3.0.2 in c:\\users\\dunda\\anaconda3\\lib\\site-packages (from requests>=1.1.0->census) (3.0.4)\n"
     ]
    }
   ],
   "source": [
    "!pip install census"
   ]
  },
  {
   "cell_type": "code",
   "execution_count": 2,
   "metadata": {},
   "outputs": [],
   "source": [
    "# Dependencies\n",
    "import pandas as pd\n",
    "import requests\n",
    "from census import Census\n",
    "\n",
    "# Census API Keys\n",
    "from config import (api_key)\n",
    "c_2010 = Census(api_key, year=2010)\n",
    "c_2011 = Census(api_key, year=2011)\n",
    "c_2012 = Census(api_key, year=2012)\n",
    "c_2013 = Census(api_key, year=2013)\n",
    "c_2014 = Census(api_key, year=2014)\n",
    "c_2015 = Census(api_key, year=2015)\n",
    "c_2016 = Census(api_key, year=2016)"
   ]
  },
  {
   "cell_type": "code",
   "execution_count": 3,
   "metadata": {},
   "outputs": [],
   "source": [
    "# Retrieving various info from census database. This part took a while on my computer.\n",
    "\n",
    "cd_2012 = c_2012.acs5.get((\"NAME\", \"B19013_001E\", \"B01003_001E\", \"B01002_001E\",\"B19301_001E\",\"B15003_002E\",\"B15003_022E\",\n",
    "                           \"B15003_018E\",\"B17001_002E\",\"B25077_001E\"), {'for': 'zip code tabulation area:*'})\n",
    "\n",
    "cd_2013 = c_2013.acs5.get((\"NAME\", \"B19013_001E\", \"B01003_001E\", \"B01002_001E\",\"B19301_001E\",\"\"\n",
    "                           \"B17001_002E\",\"B25077_001E\", \"B15003_002E\", \"B15003_022E\", \"B15003_018E\"),\n",
    "                          {'for': 'zip code tabulation area:*'})\n",
    "\n",
    "cd_2014 = c_2014.acs5.get((\"NAME\", \"B19013_001E\", \"B01003_001E\", \"B01002_001E\",\"B19301_001E\",\"\"\n",
    "                           \"B17001_002E\",\"B25077_001E\", \"B15003_002E\", \"B15003_022E\", \"B15003_018E\"),\n",
    "                          {'for': 'zip code tabulation area:*'})\n",
    "\n",
    "cd_2015 = c_2015.acs5.get((\"NAME\", \"B19013_001E\", \"B01003_001E\", \"B01002_001E\",\"B19301_001E\",\"\"\n",
    "                           \"B17001_002E\",\"B25077_001E\", \"B15003_002E\", \"B15003_022E\", \"B15003_018E\"),\n",
    "                          {'for': 'zip code tabulation area:*'})\n",
    "\n",
    "cd_2016 = c_2016.acs5.get((\"NAME\", \"B19013_001E\", \"B01003_001E\", \"B01002_001E\",\"B19301_001E\",\"\"\n",
    "                           \"B17001_002E\",\"B25077_001E\", \"B15003_002E\", \"B15003_022E\", \"B15003_018E\"),\n",
    "                          {'for': 'zip code tabulation area:*'})"
   ]
  },
  {
   "cell_type": "code",
   "execution_count": 5,
   "metadata": {},
   "outputs": [],
   "source": [
    "# Convert to DataFrame\n",
    "census_df_2012 = pd.DataFrame(cd_2012)\n",
    "census_df_2013 = pd.DataFrame(cd_2013)\n",
    "census_df_2014 = pd.DataFrame(cd_2014)\n",
    "census_df_2015 = pd.DataFrame(cd_2015)\n",
    "census_df_2016 = pd.DataFrame(cd_2016)\n",
    "\n",
    "# Combining dataframes\n",
    "census_df_1213 = pd.concat([census_df_2012,census_df_2013])\n",
    "census_df_1214 = pd.concat([census_df_1213,census_df_2014])\n",
    "census_df_1215 = pd.concat([census_df_1214,census_df_2015])\n",
    "census_df_1216 = pd.concat([census_df_1215,census_df_2016])\n",
    "\n",
    "# Column Reordering\n",
    "census_df_1216 = census_df_1216.rename(columns={\"B01003_001E\": \"Population\",\"B01002_001E\": \"Median Age\",\n",
    "                                                \"B19013_001E\": \"Household Income\",\"B19301_001E\": \"Per Capita Income\",\n",
    "                                                \"B17001_002E\": \"Poverty Count\",\"B25077_001E\": \"Median Home Value\",\n",
    "                                                \"B15003_002E\": \"No Education\",\"B15003_018E\": \"GED Education\",\n",
    "                                                \"B15003_022E\": \"Bachelor Education\", \"NAME\": \"Name\",\n",
    "                                                \"zip code tabulation area\": \"Zipcode\"})\n",
    "census_df_1216.to_csv(\"~/Desktop/CensusData.csv\")"
   ]
  }
 ],
 "metadata": {
  "kernelspec": {
   "display_name": "Conda [PythonData]",
   "language": "python",
   "name": "pythondata"
  },
  "language_info": {
   "codemirror_mode": {
    "name": "ipython",
    "version": 3
   },
   "file_extension": ".py",
   "mimetype": "text/x-python",
   "name": "python",
   "nbconvert_exporter": "python",
   "pygments_lexer": "ipython3",
   "version": "3.7.3"
  }
 },
 "nbformat": 4,
 "nbformat_minor": 2
}
